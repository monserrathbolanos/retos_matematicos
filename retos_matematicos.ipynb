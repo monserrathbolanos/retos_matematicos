{
  "nbformat": 4,
  "nbformat_minor": 0,
  "metadata": {
    "colab": {
      "provenance": [],
      "collapsed_sections": [
        "1-C6Y8Wd7uVb"
      ]
    },
    "kernelspec": {
      "name": "python3",
      "display_name": "Python 3"
    },
    "language_info": {
      "name": "python"
    }
  },
  "cells": [
    {
      "cell_type": "markdown",
      "source": [
        "# **Retos Matemáticos**\n",
        "\n",
        "\n",
        "---\n",
        "\n"
      ],
      "metadata": {
        "id": "i_EMLkRU72Kq"
      }
    },
    {
      "cell_type": "markdown",
      "source": [
        "## Tablas de multiplicar\n",
        "Escriba un programa que solicite al usuario ingresar un número del 1 al 12 y le imprima las tabla de multiplicar de este número.\n",
        "\n",
        "Ejemplo:\n",
        "**N**=2\n",
        "```\n",
        "1 x 2 = 2\n",
        "2 x 2 = 4\n",
        "3 x 2 = 6\n",
        "4 x 2 = 8\n",
        "5 x 2 = 10\n",
        "6 x 2 = 12\n",
        "7 x 2 = 14\n",
        "8 x 2 = 16\n",
        "9 x 2 = 18\n",
        "10 x 2 = 20\n",
        "11 x 2 = 22\n",
        "12 x 2 = 24\n",
        "```"
      ],
      "metadata": {
        "id": "aez2ghB08KJ1"
      }
    },
    {
      "cell_type": "code",
      "source": [
        "numero = int(input(\"Número del 1 al 12: \"))\n",
        "\n",
        "if numero < 1 or numero > 12:\n",
        "    print(\"Número ingresado no está dentro del rango válido.\")\n",
        "else:\n",
        "    print(f\"Tabla de multiplicar del {numero}:\")\n",
        "    for i in range(1, 13):\n",
        "        resultado = i * numero\n",
        "        print(f\"{i} x {numero} = {resultado}\")\n"
      ],
      "metadata": {
        "id": "fwef2dnQBz_I",
        "colab": {
          "base_uri": "https://localhost:8080/"
        },
        "outputId": "a33c0b77-8d57-432c-92d8-12cf9627471e"
      },
      "execution_count": null,
      "outputs": [
        {
          "output_type": "stream",
          "name": "stdout",
          "text": [
            "Número del 1 al 12: 5\n",
            "Tabla de multiplicar del 5:\n",
            "1 x 5 = 5\n",
            "2 x 5 = 10\n",
            "3 x 5 = 15\n",
            "4 x 5 = 20\n",
            "5 x 5 = 25\n",
            "6 x 5 = 30\n",
            "7 x 5 = 35\n",
            "8 x 5 = 40\n",
            "9 x 5 = 45\n",
            "10 x 5 = 50\n",
            "11 x 5 = 55\n",
            "12 x 5 = 60\n"
          ]
        }
      ]
    },
    {
      "cell_type": "markdown",
      "source": [
        "## Reto: Triángulo\n",
        "\n",
        "Cree un programa que le pida al usuario un número **N** e imprima un triángulo de la siguiente manera, donde la altura del triangulo sea **N**:\n",
        "\n",
        "**N**=5\n",
        "```\n",
        "*\n",
        "* *\n",
        "* * *\n",
        "* * * *\n",
        "* * * * *\n",
        "* * * *\n",
        "* * *\n",
        "* *\n",
        "*\n",
        "```"
      ],
      "metadata": {
        "id": "1-C6Y8Wd7uVb"
      }
    },
    {
      "cell_type": "code",
      "source": [
        "n = int(input(\"Número N para la altura del triángulo: \"))\n",
        "\n",
        "for i in range(1, n + 1):\n",
        "    print(\"* \" * i)\n",
        "\n",
        "for i in range(n - 1, 0, -1):\n",
        "    print(\"* \" * i)\n"
      ],
      "metadata": {
        "id": "Jz6eAEsm95gX"
      },
      "execution_count": null,
      "outputs": []
    }
  ]
}